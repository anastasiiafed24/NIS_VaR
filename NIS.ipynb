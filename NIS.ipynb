{
 "cells": [
  {
   "cell_type": "code",
   "execution_count": 19,
   "metadata": {},
   "outputs": [],
   "source": [
    "import numpy as np\n",
    "import pandas as pd\n",
    "\n",
    "dataset = pd.read_excel(\"data.xlsx\")\n",
    "worksheet = dataset[[\"data\", \"curs (rub/USD)\"]]"
   ]
  },
  {
   "cell_type": "code",
   "execution_count": 113,
   "metadata": {},
   "outputs": [],
   "source": [
    "def historical_var(curs, percent):\n",
    "    returns = (curs - curs.shift(1)) / curs.shift(1) # наши данные отсортированы по убыванию даты\n",
    "    returns.dropna(inplace=True)\n",
    "    sorted_returns = returns.sort_values(ascending=True, axis=0)\n",
    "    sorted_returns.dropna(inplace=True)\n",
    "    location = np.ceil(percent / 100 * sorted_returns.size)\n",
    "    return sorted_returns.loc[location]"
   ]
  },
  {
   "cell_type": "code",
   "execution_count": 114,
   "metadata": {},
   "outputs": [
    {
     "name": "stdout",
     "output_type": "stream",
     "text": [
      "0.013950121845833304\n"
     ]
    }
   ],
   "source": [
    "print(historical_var(worksheet[\"curs (rub/USD)\"], 1))"
   ]
  }
 ],
 "metadata": {
  "kernelspec": {
   "display_name": "Python 3",
   "language": "python",
   "name": "python3"
  },
  "language_info": {
   "codemirror_mode": {
    "name": "ipython",
    "version": 3
   },
   "file_extension": ".py",
   "mimetype": "text/x-python",
   "name": "python",
   "nbconvert_exporter": "python",
   "pygments_lexer": "ipython3",
   "version": "3.10.0"
  }
 },
 "nbformat": 4,
 "nbformat_minor": 2
}
